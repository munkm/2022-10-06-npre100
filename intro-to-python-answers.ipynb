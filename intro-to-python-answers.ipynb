{
 "cells": [
  {
   "cell_type": "markdown",
   "id": "58ed007d",
   "metadata": {
    "slideshow": {
     "slide_type": "slide"
    }
   },
   "source": [
    "# NPRE 100: Introduction to Python \n",
    "\n",
    "### Drs. Madicken Munk and April Novak\n"
   ]
  },
  {
   "cell_type": "markdown",
   "id": "b991e55b",
   "metadata": {},
   "source": [
    "Welcome to NPRE 100, Introduction to Python! Programming is an important skill you will continually build during your undergraduate program. In this lesson, you will learn:\n",
    "- Basic syntax of Python\n",
    "- How to find and use modules\n",
    "- How to use functions, loops, and more\n",
    "- How to make plots\n",
    "\n",
    "### How to Use Jupyter Notebooks\n",
    "\n",
    "This lesson is designed using Jupyter Notebooks, a web-based interactive computing platform. In this notebook, you will see a number of \"cells\" (gray boxes) where you will be writing Python code. Here are some tips for using Jupyter notebook:\n",
    "\n",
    "- To run each code cell, type \"Shift+Enter\". You can also click in the toolbar \"Cell\" -> \"Run Cells\"\n",
    "- To add a cell below your current cell, press \"Esc+b\".\n",
    "- To run all code cells up to and including the current cell, click in the toolbar \"Cell\" -> \"Run All Above\"\n",
    "- To run all code cells, click in the toolbar \"Cell\" -> \"Run All\"\n",
    "\n",
    "Some of the cells you will see contain text instead of Python code. This text is formatted in \"Markdown.\" If you want to add a text cell, type \"Esc+m\" to convert a cell into Markdown (text) form.\n",
    "\n",
    "In the NPRE 100 in-person class, we launched a Jupyter notebook using Binder. \n",
    "<span style=\"background-color: #FFFF00\">But for your assignment, please be sure to either [launch Jupyter notebook from the command line/terminal/shell](https://jupyter-notebook-beginner-guide.readthedocs.io/en/latest/execute.html) or work in a Python script file! Any work you do in the Binder will not be saved once you leave the Binder instance.</span>"
   ]
  },
  {
   "cell_type": "markdown",
   "id": "0631c135",
   "metadata": {
    "slideshow": {
     "slide_type": "subslide"
    }
   },
   "source": [
    "### Programming: the coolest calculator you'll ever have. And it's free! "
   ]
  },
  {
   "cell_type": "markdown",
   "id": "5fc5608a",
   "metadata": {},
   "source": [
    "What are some operators you'd expect to see on a calculator? Addition? subtraction? Multiplication and division? "
   ]
  },
  {
   "cell_type": "code",
   "execution_count": null,
   "id": "fa955d8f",
   "metadata": {
    "slideshow": {
     "slide_type": "subslide"
    }
   },
   "outputs": [],
   "source": [
    "3*4"
   ]
  },
  {
   "cell_type": "code",
   "execution_count": null,
   "id": "f791b349",
   "metadata": {},
   "outputs": [],
   "source": [
    "4-3"
   ]
  },
  {
   "cell_type": "code",
   "execution_count": null,
   "id": "8db37935",
   "metadata": {},
   "outputs": [],
   "source": [
    "2+3"
   ]
  },
  {
   "cell_type": "code",
   "execution_count": null,
   "id": "4303af5a",
   "metadata": {},
   "outputs": [],
   "source": [
    "1/2"
   ]
  },
  {
   "cell_type": "markdown",
   "id": "512c2b1b",
   "metadata": {},
   "source": [
    "We can also print useful messages in our scripts that make things more readable"
   ]
  },
  {
   "cell_type": "code",
   "execution_count": null,
   "id": "6d494bc2",
   "metadata": {
    "slideshow": {
     "slide_type": "subslide"
    }
   },
   "outputs": [],
   "source": [
    "print(\"Hello world!\")"
   ]
  },
  {
   "cell_type": "markdown",
   "id": "91c39590",
   "metadata": {},
   "source": [
    "Another useful feature of Python, like all programming languages, is \"comments\" - lines you can add to your code which do not get executed, typically used to document and explain the code. In Python, single-line comments begin with `#`."
   ]
  },
  {
   "cell_type": "code",
   "execution_count": null,
   "id": "b80c2abe",
   "metadata": {},
   "outputs": [],
   "source": [
    "# This is a comment\n",
    "print(\"I love NPRE\") # This is also a comment"
   ]
  },
  {
   "cell_type": "markdown",
   "id": "8df5647c",
   "metadata": {},
   "source": [
    "A comment does not always need to be text describing the code - it can be used to prevent a code line from executing"
   ]
  },
  {
   "cell_type": "code",
   "execution_count": null,
   "id": "9896dcda",
   "metadata": {},
   "outputs": [],
   "source": [
    "#print(\"hmmmm\")"
   ]
  },
  {
   "cell_type": "markdown",
   "id": "b73a2f40",
   "metadata": {},
   "source": [
    "New lines are very important in Python - every line in a Python program is interpreted as an instruction. In other programming languages, such as C++, instructions are instead denoted using some symbol at the end of each instruction (such as a `;`). If you want to write an instruction over multiple lines, you will need to use a special character, `\\`."
   ]
  },
  {
   "cell_type": "code",
   "execution_count": null,
   "id": "cee1d7c5",
   "metadata": {},
   "outputs": [],
   "source": [
    "# Python will try to run this as two instructions, but the formatting is not quite right, so you will get an error!\n",
    "print(\"This is a longer message which is so long\n",
    "that I want it to extend over multiple lines\")"
   ]
  },
  {
   "cell_type": "code",
   "execution_count": null,
   "id": "fcf64b86",
   "metadata": {},
   "outputs": [],
   "source": [
    "# Instead, use \\ to indicate a line break\n",
    "print(\"This is a longer message which is so long \\\n",
    "that I want it to extend over multiple lines\")"
   ]
  },
  {
   "cell_type": "markdown",
   "id": "882b80d7",
   "metadata": {},
   "source": [
    "Indentation is also very important in Python - it is used to define something called \"scope,\" when you are \"inside\" functions, loops, classes, etc. In other programming languages, spaces are often used just for clarity."
   ]
  },
  {
   "cell_type": "code",
   "execution_count": null,
   "id": "b98a4fad",
   "metadata": {},
   "outputs": [],
   "source": [
    "print(\"hi\")\n",
    "  print(\"there\")"
   ]
  },
  {
   "cell_type": "markdown",
   "id": "6745a9cf",
   "metadata": {
    "slideshow": {
     "slide_type": "subslide"
    }
   },
   "source": [
    "Words, numbers, and calculations are useful, but what’s more useful are the sentences and stories we build with them. Similarly, while a lot of powerful, general tools are built into Python, specialized tools built up from these basic units live in libraries that can be called upon when needed.\n",
    "\n",
    "Importing a library is like getting a piece of lab equipment out of a storage locker and setting it up on the bench. Libraries provide additional functionality to the basic Python package, much like a new piece of equipment adds functionality to a lab space. Just like in the lab, importing too many libraries can sometimes complicate and slow down your programs - so we only import what we need for each program.\n",
    "\n",
    "### How to figure out what libraries to import?\n",
    "\n",
    "With so many users and developers of Python around the world, there are many many libraries available. One way to search for a desired feature is via Google or your favorite search engine. For example, if I would like a library which can sample random numbers for me, I would first try googling \"python random number generator.\" Another way to search is through the [Python Package Index](https://pypi.org). "
   ]
  },
  {
   "cell_type": "code",
   "execution_count": null,
   "id": "425d8844",
   "metadata": {},
   "outputs": [],
   "source": [
    "import Joking"
   ]
  },
  {
   "cell_type": "code",
   "execution_count": null,
   "id": "8a0d6bdf",
   "metadata": {},
   "outputs": [],
   "source": [
    "print(Joking.random_dad_joke())"
   ]
  },
  {
   "cell_type": "code",
   "execution_count": null,
   "id": "f27637d2",
   "metadata": {
    "slideshow": {
     "slide_type": "fragment"
    }
   },
   "outputs": [],
   "source": [
    "# These are a few more useful packages we'll be using today in this lesson\n",
    "import numpy as np \n",
    "import math"
   ]
  },
  {
   "cell_type": "markdown",
   "id": "42bfe8e5",
   "metadata": {
    "slideshow": {
     "slide_type": "subslide"
    }
   },
   "source": [
    "### Using Modules\n",
    "\n",
    "So what does this give us? Well, we have a huge amount of knowledge at our fingertips that we don't need to program any more! And it's written by experts. \n",
    "\n",
    "Modules contain variables, functions, and classes - to access them, you will need to use a period (`.`) between the module name you imported, and the variable/function/class you want to access. For instance, `math.pi` will use the variable `pi` in the `math` module."
   ]
  },
  {
   "cell_type": "code",
   "execution_count": null,
   "id": "ac83d1f0",
   "metadata": {
    "slideshow": {
     "slide_type": "fragment"
    }
   },
   "outputs": [],
   "source": [
    "# let's print the value of pi from the math module\n",
    "print(pi)"
   ]
  },
  {
   "cell_type": "markdown",
   "id": "9c11ea9e",
   "metadata": {},
   "source": [
    "When using variables/functions/classes, remember that we need to insert a `.` between the module name and the variable/function/class. In the whole wide world of Python, it's impossible to guarantee that there will only be one single `pi` variable defined across all modules in existence - so to avoid clashes, we need to use a `.` to indicate that we are referring to `pi` from the `math` library."
   ]
  },
  {
   "cell_type": "code",
   "execution_count": null,
   "id": "06009e61",
   "metadata": {},
   "outputs": [],
   "source": [
    "# This is the correct way to get the pi variable from the math library\n",
    "print(math.pi)"
   ]
  },
  {
   "cell_type": "code",
   "execution_count": null,
   "id": "578e6966",
   "metadata": {
    "slideshow": {
     "slide_type": "fragment"
    }
   },
   "outputs": [],
   "source": [
    "# let's see if we just let whatever is returned from a function \n",
    "# be returned in the notebook. Maybe exp()? \n",
    "math.exp(2.0)"
   ]
  },
  {
   "cell_type": "markdown",
   "id": "3d9d19bb",
   "metadata": {
    "slideshow": {
     "slide_type": "slide"
    }
   },
   "source": [
    "ok! I've convinced you that there are some useful things that you can do. Let's go over some Python basics to get you all started\n",
    "\n",
    "### Variables\n",
    "\n",
    "You just saw me do some small calculations with Python, but what if I want to save information to use later? We do that using **variables**. To create a variable in python, we use an equals sign. The characters to the left are the name of the variable, and the expression on the right is its value. "
   ]
  },
  {
   "cell_type": "code",
   "execution_count": null,
   "id": "3dcae127",
   "metadata": {
    "slideshow": {
     "slide_type": "fragment"
    }
   },
   "outputs": [],
   "source": [
    "# create a variable called `my_variable`\n",
    "my_variable = 3"
   ]
  },
  {
   "cell_type": "code",
   "execution_count": null,
   "id": "84ee993b",
   "metadata": {},
   "outputs": [],
   "source": [
    "# print the variable\n",
    "print(my_variable)"
   ]
  },
  {
   "cell_type": "markdown",
   "id": "aad993bd",
   "metadata": {
    "slideshow": {
     "slide_type": "subslide"
    }
   },
   "source": [
    "From now on, when I call `my_variable` with Python, it knows to return the value of the variable. That is, 3.0. \n",
    "\n",
    "In Python, variable names:\n",
    "\n",
    "* can include letters, digits, and underscores\n",
    "* cannot start with a digit\n",
    "* are case sensitive.\n",
    "\n",
    "But be careful! We can easily overwrite variables too. What happens if I assign a new value to a variable with the same name? "
   ]
  },
  {
   "cell_type": "code",
   "execution_count": null,
   "id": "dcf69f03",
   "metadata": {},
   "outputs": [],
   "source": [
    "my_variable"
   ]
  },
  {
   "cell_type": "code",
   "execution_count": null,
   "id": "f41529d5",
   "metadata": {
    "slideshow": {
     "slide_type": "fragment"
    }
   },
   "outputs": [],
   "source": [
    "my_variable = 6\n",
    "my_variable"
   ]
  },
  {
   "cell_type": "markdown",
   "id": "a0c84399",
   "metadata": {
    "slideshow": {
     "slide_type": "subslide"
    }
   },
   "source": [
    "# Discussion: What do you think this means when you choose to name your variables? \n",
    "\n",
    "Use meaningful names that are detailed enough to not conflict with other variables in your program."
   ]
  },
  {
   "cell_type": "markdown",
   "id": "2dc6c81a",
   "metadata": {
    "slideshow": {
     "slide_type": "subslide"
    }
   },
   "source": [
    "We can also perform operations on variables: "
   ]
  },
  {
   "cell_type": "code",
   "execution_count": null,
   "id": "1775c04f",
   "metadata": {
    "slideshow": {
     "slide_type": "fragment"
    }
   },
   "outputs": [],
   "source": [
    "# make a new variable and print both\n",
    "another_variable = 1\n",
    "print(another_variable)\n",
    "print(my_variable)"
   ]
  },
  {
   "cell_type": "markdown",
   "id": "f8857853",
   "metadata": {
    "slideshow": {
     "slide_type": "subslide"
    }
   },
   "source": [
    "Or even modify a variable in place:"
   ]
  },
  {
   "cell_type": "code",
   "execution_count": null,
   "id": "76164e47",
   "metadata": {
    "slideshow": {
     "slide_type": "fragment"
    }
   },
   "outputs": [],
   "source": [
    "# add a variable in place to `my_variable`\n",
    "my_variable = my_variable + another_variable"
   ]
  },
  {
   "cell_type": "code",
   "execution_count": null,
   "id": "b3a53cc3",
   "metadata": {
    "slideshow": {
     "slide_type": "fragment"
    }
   },
   "outputs": [],
   "source": [
    "# now let's print the new value of `my_variable`\n",
    "my_variable"
   ]
  },
  {
   "cell_type": "markdown",
   "id": "7b55ae8e",
   "metadata": {
    "slideshow": {
     "slide_type": "slide"
    }
   },
   "source": [
    "# Data Types in Python \n",
    "\n",
    "ok! So now we know how to do some simple operations and store some of our computations as variables. However, there have been a few different things we've seen. Letters and numbers. "
   ]
  },
  {
   "cell_type": "code",
   "execution_count": null,
   "id": "74a3090b",
   "metadata": {
    "slideshow": {
     "slide_type": "subslide"
    }
   },
   "outputs": [],
   "source": [
    "# Strings can be defined using either single or double quotes\n",
    "my_variable = 'I love cats!'\n",
    "print(my_variable)"
   ]
  },
  {
   "cell_type": "code",
   "execution_count": null,
   "id": "55f598c3",
   "metadata": {},
   "outputs": [],
   "source": [
    "type(my_variable)"
   ]
  },
  {
   "cell_type": "code",
   "execution_count": null,
   "id": "72c17881",
   "metadata": {},
   "outputs": [],
   "source": [
    "# Strings can be defined using either single or double quotes\n",
    "my_variable = \"I love cats!\"\n",
    "print(my_variable)"
   ]
  },
  {
   "cell_type": "code",
   "execution_count": null,
   "id": "b8879e5c",
   "metadata": {},
   "outputs": [],
   "source": [
    "my_variable = \"April's favorite season is fall\"\n",
    "print(my_variable)"
   ]
  },
  {
   "cell_type": "code",
   "execution_count": null,
   "id": "4380b590",
   "metadata": {
    "slideshow": {
     "slide_type": "subslide"
    }
   },
   "outputs": [],
   "source": [
    "# Integers\n",
    "my_variable = 345\n",
    "type(my_variable)"
   ]
  },
  {
   "cell_type": "code",
   "execution_count": null,
   "id": "11ce1316",
   "metadata": {
    "slideshow": {
     "slide_type": "subslide"
    }
   },
   "outputs": [],
   "source": [
    "# Floats\n",
    "my_variable = 1.23\n",
    "type(my_variable)"
   ]
  },
  {
   "cell_type": "code",
   "execution_count": null,
   "id": "32614e87",
   "metadata": {},
   "outputs": [],
   "source": [
    "# Booleans (true or false)\n",
    "my_variable = True\n",
    "type(my_variable)"
   ]
  },
  {
   "cell_type": "markdown",
   "id": "7a928bcb",
   "metadata": {},
   "source": [
    "In Python, you can change the \"type\" of a variable after you've already set it to some other type. Above, we defined `my_variable` to be a string, then changed it to an integer, then changed it to a float.\n",
    "\n",
    "\n",
    "### Some Built-In Collections\n",
    "\n",
    "Python contains many other data types aside from the basics of strings, booleans, floats, etc. Let's explore lists, dictionaries, sets, and tuples -- types used to store collections of data. Below is a summary of the important characteristics of these built-in collection types.\n",
    "\n",
    "|                    | Lists     | Dictionaries                 | Sets      | Tuples    |\n",
    "|--------------------|-----------|------------------------------|-----------|-----------|\n",
    "| Ordered?           | Yes       | No                           | No        | Yes       |\n",
    "| Changeable?        | Yes       | Yes                          | No        | No        |\n",
    "| Duplicate members? | Yes       | No                           | No        | Yes       |\n",
    "| Syntax             | [a, b, c] | {key1: value1, key2: value2} | {a, b, c} | (a, b, c) |\n",
    "\n",
    "\n",
    "Let's start with lists, which are used to store multiple values into a single variable. They are *ordered*, changeable, and allow multiple types and repeated values. Lists are created using square brackets."
   ]
  },
  {
   "cell_type": "code",
   "execution_count": null,
   "id": "0671398e",
   "metadata": {
    "slideshow": {
     "slide_type": "subslide"
    }
   },
   "outputs": [],
   "source": [
    "# Lists (can be comprised of integers, floats, strings, bools)\n",
    "my_list = [\"apple\", \"uranium\", 2.5, 3]"
   ]
  },
  {
   "cell_type": "code",
   "execution_count": null,
   "id": "dd8d32c8",
   "metadata": {},
   "outputs": [],
   "source": [
    "# Lists can be accessed with the index. Let's see what the value of \n",
    "# the 0th item in the list is\n",
    "my_list[0]"
   ]
  },
  {
   "cell_type": "code",
   "execution_count": null,
   "id": "0fa41c40",
   "metadata": {},
   "outputs": [],
   "source": [
    "my_list[1]"
   ]
  },
  {
   "cell_type": "code",
   "execution_count": null,
   "id": "a9a37d4a",
   "metadata": {},
   "outputs": [],
   "source": [
    "my_list[2]"
   ]
  },
  {
   "cell_type": "code",
   "execution_count": null,
   "id": "bdfb860b",
   "metadata": {},
   "outputs": [],
   "source": [
    "# We can change the value of an entry in a list\n",
    "my_list[1] = \"plutonium\"\n",
    "print(my_list)"
   ]
  },
  {
   "cell_type": "code",
   "execution_count": null,
   "id": "ea5d73f8",
   "metadata": {},
   "outputs": [],
   "source": [
    "# We can add entries to a list (note that we are adding a duplicate entry!)\n",
    "my_list.append(\"plutonium\")\n",
    "print(my_list)"
   ]
  },
  {
   "cell_type": "code",
   "execution_count": null,
   "id": "ad0126f9",
   "metadata": {},
   "outputs": [],
   "source": [
    "# We can get the length of a list\n",
    "print(len(my_list))"
   ]
  },
  {
   "cell_type": "code",
   "execution_count": null,
   "id": "d9afbbb7",
   "metadata": {},
   "outputs": [],
   "source": [
    "# We can also remove items from a list\n",
    "my_list.pop(2)\n",
    "print(my_list)"
   ]
  },
  {
   "cell_type": "markdown",
   "id": "5f4f3bab",
   "metadata": {},
   "source": [
    "Dictionaries are used to store data in key, value pairs. They are ordered, changeable, and do not allow duplicates. Dictionaries are created using curly brackets, using a comma-separated series of key, value pairs."
   ]
  },
  {
   "cell_type": "code",
   "execution_count": null,
   "id": "1a337cb8",
   "metadata": {
    "slideshow": {
     "slide_type": "subslide"
    }
   },
   "outputs": [],
   "source": [
    "# dictionaries\n",
    "uranium_dictionary = {\"isotopes\" : [233, 235, 238], \\\n",
    "                     \"year_discovered\" : 1789, \\\n",
    "                     \"dollars_per_kg\" : 135.3}"
   ]
  },
  {
   "cell_type": "code",
   "execution_count": null,
   "id": "2cb33622",
   "metadata": {},
   "outputs": [],
   "source": [
    "print(uranium_dictionary)"
   ]
  },
  {
   "cell_type": "code",
   "execution_count": null,
   "id": "41279cae",
   "metadata": {},
   "outputs": [],
   "source": [
    "# We just talked about accessing with a list. What do you think \n",
    "# accessing with a dict looks like? \n",
    "print(uranium_dictionary[\"isotopes\"])"
   ]
  },
  {
   "cell_type": "code",
   "execution_count": null,
   "id": "4d730751",
   "metadata": {},
   "outputs": [],
   "source": [
    "print(uranium_dictionary[\"isotopes\"][1])"
   ]
  },
  {
   "cell_type": "code",
   "execution_count": null,
   "id": "3deee1cd",
   "metadata": {},
   "outputs": [],
   "source": [
    "# Let's change the value of the `dollars_per_kg` key\n",
    "uranium_dictionary[\"dollars_per_kg\"] = 125.9\n",
    "print(uranium_dictionary)"
   ]
  },
  {
   "cell_type": "markdown",
   "id": "eb42d06e",
   "metadata": {},
   "source": [
    "Sets are used to store collections of data which are unordered and do not allow repeated entries. Sets are also created using curly brackets, but are different from dictionaries in that they do not use key, value pairs."
   ]
  },
  {
   "cell_type": "code",
   "execution_count": null,
   "id": "f4d75f1e",
   "metadata": {},
   "outputs": [],
   "source": [
    "months = {\"January\", \"February\", \"March\"}"
   ]
  },
  {
   "cell_type": "code",
   "execution_count": null,
   "id": "60e556a5",
   "metadata": {},
   "outputs": [],
   "source": [
    "print(months)"
   ]
  },
  {
   "cell_type": "code",
   "execution_count": null,
   "id": "cdc41ec0",
   "metadata": {},
   "outputs": [],
   "source": [
    "# Sets cannot be changed after they are created\n",
    "months.append(\"April\")"
   ]
  },
  {
   "cell_type": "code",
   "execution_count": null,
   "id": "25075358",
   "metadata": {},
   "outputs": [],
   "source": [
    "# Duplicate entries are not allowed\n",
    "my_set = {1, 2, 5, 1}\n",
    "print(my_set)"
   ]
  },
  {
   "cell_type": "markdown",
   "id": "cfc20f21",
   "metadata": {},
   "source": [
    "### Arrays\n",
    "\n",
    "Python does not have a built-in array data type, but Python lists can be used instead. But, they are slow to process and don't have all the convenience features we may want. \n",
    "\n",
    "Instead, you can use an array type defined by the `numpy` library. `numpy` is short for \"numerical Python,\" and contains many useful features for arrays (as well as lots of other useful functionality for linear algebra, matrices, and more)."
   ]
  },
  {
   "cell_type": "code",
   "execution_count": null,
   "id": "0a4da723",
   "metadata": {
    "slideshow": {
     "slide_type": "subslide"
    }
   },
   "outputs": [],
   "source": [
    "# our first numpy array\n",
    "my_array = numpy.array([1, 3, 5, 7])"
   ]
  },
  {
   "cell_type": "code",
   "execution_count": null,
   "id": "09344125",
   "metadata": {},
   "outputs": [],
   "source": [
    "# Don't forget that we imported the numpy module under a shorthand name, np. This is called an \"alias\"\n",
    "my_1d_array = np.array([1, 3, 5, 7])\n",
    "print(my_1d_array)"
   ]
  },
  {
   "cell_type": "markdown",
   "id": "6eb7a4a3",
   "metadata": {},
   "source": [
    "To create a numpy array, we can pass a list, tuple, or other array-type object to `np.array()`. Above, we used a list. Numpy arrays can be of different \"dimensions\" - 0D arrays (scalars), 1D arrays (vectors), 2D arrays (tensors), etc."
   ]
  },
  {
   "cell_type": "code",
   "execution_count": null,
   "id": "ab648de4",
   "metadata": {},
   "outputs": [],
   "source": [
    "my_2d_array = np.array([[1, 2, 3], [4, 5, 6]])\n",
    "print(my_2d_array)"
   ]
  },
  {
   "cell_type": "code",
   "execution_count": null,
   "id": "76e354c5",
   "metadata": {},
   "outputs": [],
   "source": [
    "my_0d_array = np.array(9)\n",
    "print(my_0d_array)"
   ]
  },
  {
   "cell_type": "markdown",
   "id": "808a204e",
   "metadata": {},
   "source": [
    "Accessing entries in a numpy array is similar to accessing entries in a list."
   ]
  },
  {
   "cell_type": "code",
   "execution_count": null,
   "id": "a705bfda",
   "metadata": {},
   "outputs": [],
   "source": [
    "print(my_1d_array[1])"
   ]
  },
  {
   "cell_type": "code",
   "execution_count": null,
   "id": "57702ca4",
   "metadata": {},
   "outputs": [],
   "source": [
    "print(my_2d_array[1,0])"
   ]
  },
  {
   "cell_type": "markdown",
   "id": "52ff034e",
   "metadata": {},
   "source": [
    "We can use negative indices to access an array \"backwards.\""
   ]
  },
  {
   "cell_type": "code",
   "execution_count": null,
   "id": "1863a665",
   "metadata": {},
   "outputs": [],
   "source": [
    "print(my_1d_array)"
   ]
  },
  {
   "cell_type": "code",
   "execution_count": null,
   "id": "d6aa11fa",
   "metadata": {},
   "outputs": [],
   "source": [
    "print(my_1d_array[-1])"
   ]
  },
  {
   "cell_type": "code",
   "execution_count": null,
   "id": "2a67fdaa",
   "metadata": {},
   "outputs": [],
   "source": [
    "print(my_1d_array[-2])"
   ]
  },
  {
   "cell_type": "markdown",
   "id": "df7b832b",
   "metadata": {},
   "source": [
    "We can also \"slice\" into an array, to extra multiple entries at the same time. The syntax is `start:stop:step`, where this will fetch all items beginning at index `start`, ending at `stop` (but not inclusive of `stop`), with `step` increments taken between each."
   ]
  },
  {
   "cell_type": "code",
   "execution_count": null,
   "id": "987ed5e9",
   "metadata": {},
   "outputs": [],
   "source": [
    "my_slice = my_1d_array[0:2]\n",
    "print(my_slice)"
   ]
  },
  {
   "cell_type": "code",
   "execution_count": null,
   "id": "1c137176",
   "metadata": {},
   "outputs": [],
   "source": [
    "my_slice = my_1d_array[-3:-1]\n",
    "print(my_slice)"
   ]
  },
  {
   "cell_type": "markdown",
   "id": "ab8aaa6b",
   "metadata": {},
   "source": [
    "Slicing in higher-dimensional arrays can also be performed. Let's try to get the second column in our 2-D array. A `:` is used to indicate \"all values\" in that particular dimension."
   ]
  },
  {
   "cell_type": "code",
   "execution_count": null,
   "id": "5d633d12",
   "metadata": {},
   "outputs": [],
   "source": [
    "print(my_2d_array)"
   ]
  },
  {
   "cell_type": "code",
   "execution_count": null,
   "id": "159f81bb",
   "metadata": {},
   "outputs": [],
   "source": [
    "my_slice = my_2d_array[:, 1]\n",
    "print(my_slice)"
   ]
  },
  {
   "cell_type": "markdown",
   "id": "c44734b3",
   "metadata": {},
   "source": [
    "When slicing, if you omit a number in `start:stop`, it will default to the beginning or end of the array."
   ]
  },
  {
   "cell_type": "code",
   "execution_count": null,
   "id": "00f274e6",
   "metadata": {},
   "outputs": [],
   "source": [
    "print(my_1d_array)"
   ]
  },
  {
   "cell_type": "code",
   "execution_count": null,
   "id": "c88e9031",
   "metadata": {},
   "outputs": [],
   "source": [
    "print(my_1d_array[1:])"
   ]
  },
  {
   "cell_type": "code",
   "execution_count": null,
   "id": "338f1f34",
   "metadata": {},
   "outputs": [],
   "source": [
    "print(my_1d_array[-1::-1])"
   ]
  },
  {
   "cell_type": "markdown",
   "id": "2a8a4f1a",
   "metadata": {},
   "source": [
    "Numpy contains functions we can use to easily set up the values held in arrays. Prior to this, we have been typing out the values ourselves. The `numpy.arange` function returns an array with evenly-spaced values between a `start`, a `stop` (not-inclusive), incremented by a `step`, like `numpy.arange(start, stop, step)`."
   ]
  },
  {
   "cell_type": "code",
   "execution_count": null,
   "id": "efc18b7f",
   "metadata": {},
   "outputs": [],
   "source": [
    "my_array = np.arange(1, 10, 1)\n",
    "print(len(my_array))"
   ]
  },
  {
   "cell_type": "code",
   "execution_count": null,
   "id": "ee29de94",
   "metadata": {},
   "outputs": [],
   "source": [
    "print(my_array)"
   ]
  },
  {
   "cell_type": "code",
   "execution_count": null,
   "id": "278a0eb3",
   "metadata": {},
   "outputs": [],
   "source": [
    "my_array = np.arange(1, 100, 2)\n",
    "print(my_array)"
   ]
  },
  {
   "cell_type": "code",
   "execution_count": null,
   "id": "9fbbcf00",
   "metadata": {},
   "outputs": [],
   "source": [
    "my_array = np.arange(0.5, 123.7, math.pi)\n",
    "print(my_array)"
   ]
  },
  {
   "cell_type": "markdown",
   "id": "5e642a12",
   "metadata": {},
   "source": [
    "Another useful function is `numpy.linspace`, which will create `num` evenly-spaced values between a `start`, a `stop` (inclusive)."
   ]
  },
  {
   "cell_type": "code",
   "execution_count": null,
   "id": "e6ba0e3f",
   "metadata": {},
   "outputs": [],
   "source": [
    "my_array = np.linspace(1, 10, 8)\n",
    "print(my_array)"
   ]
  },
  {
   "cell_type": "code",
   "execution_count": null,
   "id": "d53bc8f9",
   "metadata": {},
   "outputs": [],
   "source": [
    "# can you think of how to obtain the same array as above, but using np.arange?\n",
    "# It's more difficult!\n",
    "number_spacing = (10 - 1) / 7\n",
    "print(number_spacing)"
   ]
  },
  {
   "cell_type": "code",
   "execution_count": null,
   "id": "4524f7a7",
   "metadata": {},
   "outputs": [],
   "source": [
    "my_array = np.arange(1, 10 + number_spacing, number_spacing)\n",
    "print(my_array)"
   ]
  },
  {
   "cell_type": "markdown",
   "id": "acd20482",
   "metadata": {},
   "source": [
    "I can even make an array of entirely zeros"
   ]
  },
  {
   "cell_type": "code",
   "execution_count": null,
   "id": "3ccfeee2",
   "metadata": {},
   "outputs": [],
   "source": [
    "my_array = np.zeros((3))\n",
    "print(my_array)"
   ]
  },
  {
   "cell_type": "markdown",
   "id": "9a72cfcf",
   "metadata": {},
   "source": [
    "Sometimes, I just want to create an empty array, but which has a specified size. Perhaps I am going to populate the entries in that array at a later point in my program, in a loop."
   ]
  },
  {
   "cell_type": "code",
   "execution_count": null,
   "id": "3877037e",
   "metadata": {},
   "outputs": [],
   "source": [
    "my_array = np.empty((5, 5))\n",
    "print(my_array.shape)"
   ]
  },
  {
   "cell_type": "code",
   "execution_count": null,
   "id": "10b15ebc",
   "metadata": {},
   "outputs": [],
   "source": [
    "# What is held in this empty array?\n",
    "print(my_array)"
   ]
  },
  {
   "cell_type": "code",
   "execution_count": null,
   "id": "a262ec6f",
   "metadata": {},
   "outputs": [],
   "source": [
    "my_array[0, 1] = 125\n",
    "print(my_array)"
   ]
  },
  {
   "cell_type": "markdown",
   "id": "db452c5e",
   "metadata": {
    "slideshow": {
     "slide_type": "subslide"
    }
   },
   "source": [
    "# Discussion: Why do you think different types of data exist in Python? Can you see how you would use each kind? "
   ]
  },
  {
   "cell_type": "markdown",
   "id": "011c9705",
   "metadata": {
    "slideshow": {
     "slide_type": "slide"
    }
   },
   "source": [
    "# Python Operators\n",
    "\n",
    "### Now that you've seen some different types of objects in Python, let's explore the different types of operations you can do on them. "
   ]
  },
  {
   "cell_type": "markdown",
   "id": "3a5ac0f4",
   "metadata": {
    "slideshow": {
     "slide_type": "subslide"
    }
   },
   "source": [
    "Arithmetic Operators: \n",
    "* addition   a + b\n",
    "* subtraction a - b\n",
    "* multiplication   a*b \n",
    "* division a/b \n",
    "* modulus   a%b\n",
    "* exponent a**b "
   ]
  },
  {
   "cell_type": "code",
   "execution_count": null,
   "id": "60071286",
   "metadata": {
    "slideshow": {
     "slide_type": "fragment"
    }
   },
   "outputs": [],
   "source": [
    "10**2"
   ]
  },
  {
   "cell_type": "code",
   "execution_count": null,
   "id": "7911c363",
   "metadata": {},
   "outputs": [],
   "source": [
    "10%3"
   ]
  },
  {
   "cell_type": "code",
   "execution_count": null,
   "id": "f4fc03b6",
   "metadata": {},
   "outputs": [],
   "source": [
    "10/3"
   ]
  },
  {
   "cell_type": "markdown",
   "id": "957aab47",
   "metadata": {
    "slideshow": {
     "slide_type": "subslide"
    }
   },
   "source": [
    "Comparison Operators:\n",
    "\n",
    "    * equal == \n",
    "    * not equal != \n",
    "    * greater than > \n",
    "    * less than <\n",
    "    * greater than or equal to >=\n",
    "    * less than or equal to <="
   ]
  },
  {
   "cell_type": "code",
   "execution_count": null,
   "id": "1258e25d",
   "metadata": {
    "slideshow": {
     "slide_type": "fragment"
    }
   },
   "outputs": [],
   "source": [
    "9/3 == 3"
   ]
  },
  {
   "cell_type": "code",
   "execution_count": null,
   "id": "7d7c44ea",
   "metadata": {},
   "outputs": [],
   "source": [
    "10/3 == 3"
   ]
  },
  {
   "cell_type": "markdown",
   "id": "6f5ecdc8",
   "metadata": {
    "slideshow": {
     "slide_type": "subslide"
    }
   },
   "source": [
    "Logical Operators:\n",
    "    \n",
    "    * and ( inclusion of both )\n",
    "    * or ( one or other )\n",
    "    * not ( cannot include ) "
   ]
  },
  {
   "cell_type": "code",
   "execution_count": null,
   "id": "441746b0",
   "metadata": {
    "slideshow": {
     "slide_type": "fragment"
    }
   },
   "outputs": [],
   "source": [
    "a = True\n",
    "b = True\n",
    "c = False"
   ]
  },
  {
   "cell_type": "code",
   "execution_count": null,
   "id": "62d3612b",
   "metadata": {},
   "outputs": [],
   "source": [
    "print(a and c)"
   ]
  },
  {
   "cell_type": "code",
   "execution_count": null,
   "id": "3f4dc20c",
   "metadata": {},
   "outputs": [],
   "source": [
    "print(a or c)"
   ]
  },
  {
   "cell_type": "code",
   "execution_count": null,
   "id": "ea444e48",
   "metadata": {},
   "outputs": [],
   "source": [
    "print(not b)"
   ]
  },
  {
   "cell_type": "code",
   "execution_count": null,
   "id": "92ac7ed4",
   "metadata": {},
   "outputs": [],
   "source": [
    "print((a and (not b)) or c)"
   ]
  },
  {
   "cell_type": "markdown",
   "id": "89f8424a",
   "metadata": {
    "slideshow": {
     "slide_type": "slide"
    }
   },
   "source": [
    "# Python Conditionals \n",
    "\n",
    "### Now that we've learned about different operators in Python, let's consider what it would look like to combine them with conditional statements in python. Some examples of conditionals are:\n",
    "* if .... else\n",
    "* while\n",
    "* for \n",
    "\n",
    "Let's see some examples of each. "
   ]
  },
  {
   "cell_type": "code",
   "execution_count": null,
   "id": "7359929f",
   "metadata": {
    "slideshow": {
     "slide_type": "subslide"
    }
   },
   "outputs": [],
   "source": [
    "a = 20\n",
    "b = 30 \n",
    "if a > b:\n",
    "    print('a is greater than b')\n",
    "else:\n",
    "    print('a is less than b')"
   ]
  },
  {
   "cell_type": "code",
   "execution_count": null,
   "id": "e0b3b134",
   "metadata": {},
   "outputs": [],
   "source": [
    "a = 49\n",
    "if (a < 30):\n",
    "    print('a less than 30')\n",
    "elif (a < 50):\n",
    "    print('a between 30 and 49')\n",
    "else:\n",
    "    print('a greater than 49')"
   ]
  },
  {
   "cell_type": "code",
   "execution_count": null,
   "id": "a9824dea",
   "metadata": {
    "slideshow": {
     "slide_type": "subslide"
    }
   },
   "outputs": [],
   "source": [
    "year = 1990\n",
    "while year < 1999:\n",
    "    print(f\"The year is {year}. Let's party like it's 1999!\")\n",
    "    year += 1 "
   ]
  },
  {
   "cell_type": "code",
   "execution_count": null,
   "id": "96cd854a",
   "metadata": {},
   "outputs": [],
   "source": [
    "year = 1990\n",
    "while year <= 1999:\n",
    "    if (year == 1999):\n",
    "        print(\"It's finally 1999!\")\n",
    "    else:\n",
    "        print(f\"The year is {year}. Let's party like it's 1999!\")\n",
    "    year += 1 "
   ]
  },
  {
   "cell_type": "markdown",
   "id": "850fa8b6",
   "metadata": {
    "slideshow": {
     "slide_type": "subslide"
    }
   },
   "source": [
    "# Discussion: what happens if the condition of the while loop is not met? "
   ]
  },
  {
   "cell_type": "markdown",
   "id": "a2f6b83f",
   "metadata": {},
   "source": [
    "A for-loop is one way to loop over an array or list. For loops are very useful for performing a calculation on a set of data. One common operation is to loop through a numpy array. The `range(start, stop, step)` will construct a range of numbers beginning at `start`, ending at `stop` (not inclusive), incrementing by `step`."
   ]
  },
  {
   "cell_type": "code",
   "execution_count": null,
   "id": "220d4e6b",
   "metadata": {
    "slideshow": {
     "slide_type": "subslide"
    }
   },
   "outputs": [],
   "source": [
    "# Generate a simple for-loop\n",
    "for x in range(2,6):\n",
    "    print(x)"
   ]
  },
  {
   "cell_type": "code",
   "execution_count": null,
   "id": "d66c6239",
   "metadata": {},
   "outputs": [],
   "source": [
    "for x in range(1, 100, 10):\n",
    "    print(x)"
   ]
  },
  {
   "cell_type": "code",
   "execution_count": null,
   "id": "e87da230",
   "metadata": {},
   "outputs": [],
   "source": [
    "# Use a for-loop to cycle through all the items in a list\n",
    "my_list = [1, 3, 5, 7]\n",
    "for x in my_list:\n",
    "    print(x)"
   ]
  },
  {
   "cell_type": "code",
   "execution_count": null,
   "id": "00b79389",
   "metadata": {},
   "outputs": [],
   "source": [
    "# We could have accomplished the same as the above by instead\n",
    "# looping over a range, and indexing into our list using that range \n",
    "for x in range(len(my_list)):\n",
    "    print(my_list[x])"
   ]
  },
  {
   "cell_type": "code",
   "execution_count": null,
   "id": "b38f000c",
   "metadata": {},
   "outputs": [],
   "source": [
    "# Other array-type objects can be used for iterating in a loop\n",
    "my_array = np.linspace(3, 9, 4)\n",
    "for i in my_array:\n",
    "    print(i)"
   ]
  },
  {
   "cell_type": "code",
   "execution_count": null,
   "id": "1725fb45",
   "metadata": {},
   "outputs": [],
   "source": [
    "# We can iterate through a higher-dimensional array too!\n",
    "my_array = np.array([[1, 2, 3], [4, 5, 6]])\n",
    "for row in my_array:\n",
    "    for column in row:\n",
    "        print(column)"
   ]
  },
  {
   "cell_type": "markdown",
   "id": "e167ded9",
   "metadata": {
    "slideshow": {
     "slide_type": "subslide"
    }
   },
   "source": [
    "We can combine logic however we want! "
   ]
  },
  {
   "cell_type": "code",
   "execution_count": null,
   "id": "bbe2c898",
   "metadata": {
    "slideshow": {
     "slide_type": "fragment"
    }
   },
   "outputs": [],
   "source": [
    "for x in range(70,100,5):\n",
    "    if x < 85:\n",
    "        print(f\"My grade is {x} and it is below the class average\")\n",
    "    elif x == 85:\n",
    "        print(f\"I have the same grade as the class average!\")\n",
    "    else:\n",
    "        print(f\"My grade is {x} and it is above the class average\")"
   ]
  },
  {
   "cell_type": "markdown",
   "id": "0f174a96",
   "metadata": {
    "slideshow": {
     "slide_type": "slide"
    }
   },
   "source": [
    "# Introduction to Functions"
   ]
  },
  {
   "cell_type": "markdown",
   "id": "02025a3a",
   "metadata": {
    "slideshow": {
     "slide_type": "subslide"
    }
   },
   "source": [
    "Another type of object in Python is something called a function. A function takes **arguments** and performs a task on them. That function can then be called to perform the same operation over and over again. A function may **return** something, as well. To write a function, we have to **define** it with a specific convention. Note that all the code which belongs to the function must be indented! \n",
    "\n",
    "```\n",
    "def my_function_name(input arguments):\n",
    "  # do something\n",
    "  \n",
    "  # if you want to return a quantity, you can do so with a\n",
    "  # return statement\n",
    "  return a_variable\n",
    "```"
   ]
  },
  {
   "cell_type": "code",
   "execution_count": null,
   "id": "b086a80c",
   "metadata": {},
   "outputs": [],
   "source": [
    "# You can have a function which takes no inputs at all and returns nothing\n",
    "def print_message():\n",
    "    print(\"good morning\")"
   ]
  },
  {
   "cell_type": "code",
   "execution_count": null,
   "id": "b2f4cd28",
   "metadata": {},
   "outputs": [],
   "source": [
    "print_message()"
   ]
  },
  {
   "cell_type": "code",
   "execution_count": null,
   "id": "89a511d3",
   "metadata": {},
   "outputs": [],
   "source": [
    "# Let's have a function which takes inputs, but does not return anything\n",
    "def print_custom_message(date):\n",
    "    print(f'good morning, it is {date}')"
   ]
  },
  {
   "cell_type": "code",
   "execution_count": null,
   "id": "c46ae8c3",
   "metadata": {},
   "outputs": [],
   "source": [
    "import datetime\n",
    "print_custom_message(datetime.date.today())"
   ]
  },
  {
   "cell_type": "code",
   "execution_count": null,
   "id": "3f68c5ac",
   "metadata": {
    "slideshow": {
     "slide_type": "subslide"
    }
   },
   "outputs": [],
   "source": [
    "# Let's have a function which takes inputs, and returns something\n",
    "def add_two_numbers(a, b):\n",
    "    sum_both = a+b\n",
    "    return sum_both"
   ]
  },
  {
   "cell_type": "markdown",
   "id": "8963afa5",
   "metadata": {
    "slideshow": {
     "slide_type": "fragment"
    }
   },
   "source": [
    "Here we have defined a function called **add_two_numbers**, where two variables **a** and **b** are passed into it. When the function is called, it adds a and b together, and then returns that value. Let's see how well it works!"
   ]
  },
  {
   "cell_type": "code",
   "execution_count": null,
   "id": "ac427216",
   "metadata": {},
   "outputs": [],
   "source": [
    "print(add_two_numbers(3, 4))"
   ]
  },
  {
   "cell_type": "code",
   "execution_count": null,
   "id": "6951a3de",
   "metadata": {},
   "outputs": [],
   "source": [
    "# You can return multiple quantities from a single function\n",
    "def get_min_and_max(x):\n",
    "    minimum = np.min(x)\n",
    "    maximum = np.max(x)\n",
    "    return minimum, maximum"
   ]
  },
  {
   "cell_type": "code",
   "execution_count": null,
   "id": "62d854c6",
   "metadata": {},
   "outputs": [],
   "source": [
    "random_data = np.random.rand(10)\n",
    "print(random_data)"
   ]
  },
  {
   "cell_type": "code",
   "execution_count": null,
   "id": "27341a34",
   "metadata": {},
   "outputs": [],
   "source": [
    "small, big = get_min_and_max(random_data)\n",
    "print(small)\n",
    "print(big)"
   ]
  },
  {
   "cell_type": "markdown",
   "id": "6b567eca",
   "metadata": {},
   "source": [
    "When writing functions, it is important to document how to properly use the function! You may forget, or other people be confused, on exactly what is meant by the order of the input arguments, or the order of the output arguments, in addition to the purpose of the function. You can document functions using a \"docstring\" in triple quotes. "
   ]
  },
  {
   "cell_type": "code",
   "execution_count": null,
   "id": "928b1c9f",
   "metadata": {},
   "outputs": [],
   "source": [
    "def get_min_and_max(x):\n",
    "    \"\"\"\n",
    "    Returns the minimum and maximum value in an array.\n",
    "\n",
    "    Parameters:\n",
    "    -----------\n",
    "    x: numpy array\n",
    "       Array to get minimum and maximum value of.\n",
    "   \n",
    "   \n",
    "    Returns:\n",
    "    --------\n",
    "    minimum and maximum values of the array\n",
    "    \"\"\"\n",
    "    minimum = np.min(x)\n",
    "    maximum = np.max(x)\n",
    "    return minimum, maximum"
   ]
  },
  {
   "cell_type": "markdown",
   "id": "52a65468",
   "metadata": {
    "slideshow": {
     "slide_type": "subslide"
    }
   },
   "source": [
    "# Checkpoint: Why do I want multiple types of documentation? Why do I want documentation at all?"
   ]
  },
  {
   "cell_type": "code",
   "execution_count": null,
   "id": "4e345527",
   "metadata": {
    "slideshow": {
     "slide_type": "subslide"
    }
   },
   "outputs": [],
   "source": [
    "random_data = np.random.rand(10)\n",
    "small, big = get_min_and_max(random_data)"
   ]
  },
  {
   "cell_type": "code",
   "execution_count": null,
   "id": "135574e8",
   "metadata": {},
   "outputs": [],
   "source": [
    "print(get_min_and_max.__doc__)"
   ]
  },
  {
   "cell_type": "markdown",
   "id": "df5b9e88",
   "metadata": {
    "slideshow": {
     "slide_type": "subslide"
    }
   },
   "source": [
    "What happens to the variables `minimum` and `maximum` stored in the function? In programming languages, \"scope\" indicates where within a program a variable exists. Scope in python is indicated using indentation. Any variables that we define inside a function are not accessible outside the function."
   ]
  },
  {
   "cell_type": "code",
   "execution_count": null,
   "id": "b5642edb",
   "metadata": {
    "slideshow": {
     "slide_type": "fragment"
    }
   },
   "outputs": [],
   "source": [
    "minimum"
   ]
  },
  {
   "cell_type": "code",
   "execution_count": null,
   "id": "af7b118b",
   "metadata": {},
   "outputs": [],
   "source": [
    "maximum"
   ]
  },
  {
   "cell_type": "code",
   "execution_count": null,
   "id": "30cd194f",
   "metadata": {},
   "outputs": [],
   "source": [
    "a = 3\n",
    "def reset_a():\n",
    "    a = 5\n",
    "    \n",
    "reset_a()"
   ]
  },
  {
   "cell_type": "code",
   "execution_count": null,
   "id": "1d1e2d57",
   "metadata": {},
   "outputs": [],
   "source": [
    "# What do we think the value of a is, outside the function?\n",
    "print(a)"
   ]
  },
  {
   "cell_type": "markdown",
   "id": "5fcc8944",
   "metadata": {
    "slideshow": {
     "slide_type": "subslide"
    }
   },
   "source": [
    "In the Python language there are a huge number of functions built in to help you write your programs. I recommend searching for them in the documentation to learn about how to use them. Some very common functions you will enounter are:\n",
    "* type()\n",
    "* abs()\n",
    "* sum()\n",
    "* max()\n",
    "* len()"
   ]
  },
  {
   "cell_type": "code",
   "execution_count": null,
   "id": "52670661",
   "metadata": {
    "slideshow": {
     "slide_type": "fragment"
    }
   },
   "outputs": [],
   "source": [
    "# Let's try an example!!! \n",
    "len('NPRE is cool')"
   ]
  },
  {
   "cell_type": "markdown",
   "id": "e3a0d3e7",
   "metadata": {},
   "source": [
    "### How to view documentation?\n",
    "\n",
    "There are numerous ways that you can find the documentation for a function or class in Jupyter notebooks. Using \"Shift+Tab\" will open a pop-up box with documentation for the function/class of interest."
   ]
  },
  {
   "cell_type": "code",
   "execution_count": null,
   "id": "478d6445",
   "metadata": {
    "slideshow": {
     "slide_type": "subslide"
    }
   },
   "outputs": [],
   "source": [
    "# View documentation for np.arange"
   ]
  },
  {
   "cell_type": "code",
   "execution_count": null,
   "id": "414204bb",
   "metadata": {},
   "outputs": [],
   "source": [
    "np.arange(1,10,2)"
   ]
  },
  {
   "cell_type": "code",
   "execution_count": null,
   "id": "27ee45ae",
   "metadata": {
    "slideshow": {
     "slide_type": "subslide"
    }
   },
   "outputs": [],
   "source": [
    "# What do you think our previous function looks like with this feature?\n",
    "# View documentation for get_min_and_max"
   ]
  },
  {
   "cell_type": "markdown",
   "id": "8f2aa0a7",
   "metadata": {},
   "source": [
    "Or, if you are not using Jupyter notebooks (but instead running a Python script directly), you can use `help(np.arange)`. And of course Google is your friend!"
   ]
  },
  {
   "cell_type": "code",
   "execution_count": null,
   "id": "a083dfdb",
   "metadata": {},
   "outputs": [],
   "source": [
    "print(help(np.arange))"
   ]
  },
  {
   "cell_type": "markdown",
   "id": "c8455d5d",
   "metadata": {
    "slideshow": {
     "slide_type": "slide"
    }
   },
   "source": [
    "# Arrays \n",
    "\n",
    "Ok, let's get used to array computations since you'll use them a LOT in NE. First we'll create a random 10x10 matrix"
   ]
  },
  {
   "cell_type": "code",
   "execution_count": null,
   "id": "39d8f9f2",
   "metadata": {
    "slideshow": {
     "slide_type": "subslide"
    }
   },
   "outputs": [],
   "source": [
    "our_data = np.random.randint(0, 100, size=100)\n",
    "print(our_data)"
   ]
  },
  {
   "cell_type": "code",
   "execution_count": null,
   "id": "2f5249fb",
   "metadata": {},
   "outputs": [],
   "source": [
    "# Reshape the array into a 10 x 10 two-dimensional array\n",
    "our_data = our_data.reshape(10, 10)\n",
    "print(our_data)"
   ]
  },
  {
   "cell_type": "markdown",
   "id": "137912d1",
   "metadata": {
    "slideshow": {
     "slide_type": "subslide"
    }
   },
   "source": [
    "![](https://swcarpentry.github.io/python-novice-inflammation/fig/python-zero-index.svg)"
   ]
  },
  {
   "cell_type": "markdown",
   "id": "936d608e",
   "metadata": {
    "slideshow": {
     "slide_type": "subslide"
    }
   },
   "source": [
    "If we want to get a specific value on the matrix we need to do a selection. Since this matrix is 2d we need to specify the row it is in, and the column it is in. So, let's try a few selections:"
   ]
  },
  {
   "cell_type": "code",
   "execution_count": null,
   "id": "12368503",
   "metadata": {
    "slideshow": {
     "slide_type": "fragment"
    }
   },
   "outputs": [],
   "source": [
    "our_data[3][2]"
   ]
  },
  {
   "cell_type": "code",
   "execution_count": null,
   "id": "12a02b7f",
   "metadata": {
    "slideshow": {
     "slide_type": "subslide"
    }
   },
   "outputs": [],
   "source": [
    "our_data[3]"
   ]
  },
  {
   "cell_type": "code",
   "execution_count": null,
   "id": "43a15cc6",
   "metadata": {
    "slideshow": {
     "slide_type": "fragment"
    }
   },
   "outputs": [],
   "source": [
    "our_data[1][1]"
   ]
  },
  {
   "cell_type": "markdown",
   "id": "c6576ff9",
   "metadata": {
    "slideshow": {
     "slide_type": "subslide"
    }
   },
   "source": [
    "We can also use the `:` to do larger selections. So to take the 2nd column we would do:"
   ]
  },
  {
   "cell_type": "code",
   "execution_count": null,
   "id": "49d3775b",
   "metadata": {
    "slideshow": {
     "slide_type": "fragment"
    }
   },
   "outputs": [],
   "source": [
    "our_data[:,1]"
   ]
  },
  {
   "cell_type": "code",
   "execution_count": null,
   "id": "7b93a2a4",
   "metadata": {
    "slideshow": {
     "slide_type": "fragment"
    }
   },
   "outputs": [],
   "source": [
    "our_data[0:2,0:2]"
   ]
  },
  {
   "cell_type": "code",
   "execution_count": null,
   "id": "a540f016",
   "metadata": {
    "slideshow": {
     "slide_type": "fragment"
    }
   },
   "outputs": [],
   "source": [
    "our_data[:2,:2]"
   ]
  },
  {
   "cell_type": "code",
   "execution_count": null,
   "id": "c82e0b62",
   "metadata": {
    "slideshow": {
     "slide_type": "subslide"
    }
   },
   "outputs": [],
   "source": [
    "our_data[-5:,-5:]"
   ]
  },
  {
   "cell_type": "code",
   "execution_count": null,
   "id": "ced194e9",
   "metadata": {
    "slideshow": {
     "slide_type": "subslide"
    }
   },
   "outputs": [],
   "source": [
    "print(np.max(our_data))\n",
    "print(np.min(our_data))\n",
    "print(np.std(our_data))"
   ]
  },
  {
   "cell_type": "markdown",
   "id": "9a366ef3",
   "metadata": {
    "slideshow": {
     "slide_type": "subslide"
    }
   },
   "source": [
    "# Checkpoint: using np.max() to get the maximum value in an array, find the maximum value in each row of your data matrix."
   ]
  },
  {
   "cell_type": "code",
   "execution_count": null,
   "id": "bfab805b",
   "metadata": {},
   "outputs": [],
   "source": [
    "max_value_in_each_row = []"
   ]
  },
  {
   "cell_type": "code",
   "execution_count": null,
   "id": "1fe53233",
   "metadata": {},
   "outputs": [],
   "source": [
    "for x in our_data:\n",
    "    max_value_in_each_row.append(np.max(x))\n",
    "print(max_value_in_each_row)"
   ]
  },
  {
   "cell_type": "code",
   "execution_count": null,
   "id": "1bf7bcde",
   "metadata": {},
   "outputs": [],
   "source": [
    "# Another way to do this in even shorter syntax: list comprehensions!\n",
    "max_value_in_each_row = [np.max(x) for x in our_data]\n",
    "print(max_value_in_each_row)"
   ]
  },
  {
   "cell_type": "markdown",
   "id": "034701e0",
   "metadata": {},
   "source": [
    "![](https://swcarpentry.github.io/python-novice-inflammation/fig/python-zero-index.svg)"
   ]
  },
  {
   "cell_type": "markdown",
   "id": "57dcdd5d",
   "metadata": {
    "slideshow": {
     "slide_type": "slide"
    }
   },
   "source": [
    "# Plotting"
   ]
  },
  {
   "cell_type": "markdown",
   "id": "a670e5e2",
   "metadata": {
    "slideshow": {
     "slide_type": "subslide"
    }
   },
   "source": [
    "Earlier we imported a module from matplotlib called pyplot. This is the object-oriented interface for matplotlib's plotting tools. There are so many ways you can create and modify plots with this interface. \n",
    "\n",
    "Resources: \n",
    "[matplotlib gallery](https://matplotlib.org/stable/gallery/index.html)\n",
    "![](https://matplotlib.org/stable/_images/sphx_glr_anatomy_001.png)"
   ]
  },
  {
   "cell_type": "code",
   "execution_count": null,
   "id": "0c6be2c3",
   "metadata": {},
   "outputs": [],
   "source": [
    "import matplotlib.pyplot as plt"
   ]
  },
  {
   "cell_type": "code",
   "execution_count": null,
   "id": "72378f70",
   "metadata": {
    "slideshow": {
     "slide_type": "subslide"
    }
   },
   "outputs": [],
   "source": [
    "#first we define our x and y points:\n",
    "x = np.linspace(0, 10, num=1000, endpoint=True)\n",
    "y = np.sin(x*3+x**2+2)"
   ]
  },
  {
   "cell_type": "code",
   "execution_count": null,
   "id": "99a791d7",
   "metadata": {
    "slideshow": {
     "slide_type": "fragment"
    }
   },
   "outputs": [],
   "source": [
    "plt.plot(x,y,'-')\n",
    "plt.legend(labels=['function'], loc='best')\n",
    "plt.show()"
   ]
  },
  {
   "cell_type": "markdown",
   "id": "fae61290",
   "metadata": {
    "slideshow": {
     "slide_type": "subslide"
    }
   },
   "source": [
    "Oh no! But there is no title or axes for this plot? How can we fix it? "
   ]
  },
  {
   "cell_type": "code",
   "execution_count": null,
   "id": "942bdf8e",
   "metadata": {
    "slideshow": {
     "slide_type": "fragment"
    }
   },
   "outputs": [],
   "source": [
    "plt.plot(x,y,'-')\n",
    "plt.legend(labels=['function'], loc='best')\n",
    "plt.xlabel('x')\n",
    "plt.ylabel('y')\n",
    "plt.title('Plot of our cool function')\n",
    "plt.savefig('our_plot.png')"
   ]
  },
  {
   "cell_type": "markdown",
   "id": "3077bbaf",
   "metadata": {
    "slideshow": {
     "slide_type": "fragment"
    }
   },
   "source": [
    "Pro-tip: Check out all of the plot objects that are available to you via tab completion. "
   ]
  },
  {
   "cell_type": "markdown",
   "id": "d745043f",
   "metadata": {
    "slideshow": {
     "slide_type": "slide"
    }
   },
   "source": [
    "# Bringing it all together"
   ]
  },
  {
   "cell_type": "code",
   "execution_count": null,
   "id": "9e53ed22",
   "metadata": {
    "slideshow": {
     "slide_type": "subslide"
    }
   },
   "outputs": [],
   "source": [
    "from scipy.interpolate import interp1d"
   ]
  },
  {
   "cell_type": "code",
   "execution_count": null,
   "id": "49c6893a",
   "metadata": {
    "slideshow": {
     "slide_type": "subslide"
    }
   },
   "outputs": [],
   "source": [
    "# first we'll define our x and y points \n",
    "x = np.linspace(0, 10, num=11, endpoint=True)\n",
    "y = np.cos(-x**2/9.0)"
   ]
  },
  {
   "cell_type": "code",
   "execution_count": null,
   "id": "4fd37c5d",
   "metadata": {},
   "outputs": [],
   "source": []
  },
  {
   "cell_type": "code",
   "execution_count": null,
   "id": "bebdf446",
   "metadata": {
    "slideshow": {
     "slide_type": "fragment"
    }
   },
   "outputs": [],
   "source": [
    "# now we'll use scipy's interpolate routine to get a few interpolations of this data \n",
    "f = interp1d(x, y)\n",
    "f2 = interp1d(x, y, kind='cubic')\n",
    "f3 = interp1d(x, y, kind='quadratic')"
   ]
  },
  {
   "cell_type": "code",
   "execution_count": null,
   "id": "69b7ccfc",
   "metadata": {},
   "outputs": [],
   "source": [
    "print(f(1.5))"
   ]
  },
  {
   "cell_type": "code",
   "execution_count": null,
   "id": "3c13a0df",
   "metadata": {
    "slideshow": {
     "slide_type": "fragment"
    }
   },
   "outputs": [],
   "source": [
    "# now let's plot it! \n",
    "xnew = np.linspace(0, 10, num=41, endpoint=True) # this defines more points for the interpolations\n",
    "plt.plot(x, y, 'o', xnew, f(xnew), '-', xnew, f2(xnew), '--', xnew, f3(xnew), '-*')\n",
    "plt.legend(['data', 'linear', 'cubic', 'quadratic'], loc='best')\n",
    "plt.show()"
   ]
  },
  {
   "cell_type": "markdown",
   "id": "5b1b75f8",
   "metadata": {
    "slideshow": {
     "slide_type": "slide"
    }
   },
   "source": [
    "### Some useful Python packages for your work:\n",
    "\n",
    "* matplotlib [docs](https://matplotlib.org/) [source](https://github.com/matplotlib/matplotlib)\n",
    "* numpy [docs](https://numpy.org/doc/stable/) [source](https://github.com/numpy/numpy)\n",
    "* scipy [docs](https://scipy.org/scipylib/) [source](https://github.com/scipy/scipy)\n",
    "* sympy [docs](https://docs.sympy.org/latest/index.html) [source](https://github.com/sympy/sympy)\n",
    "* pytest [docs](https://docs.pytest.org/en/6.2.x/) [source](https://github.com/pytest-dev/pytest)\n",
    "* unyt [docs](https://unyt.readthedocs.io/en/stable/) [source](https://github.com/yt-project/unyt)\n",
    "* pyne [docs](http://pyne.io/) [source](https://github.com/pyne/pyne)\n",
    "* radioactivedecay [docs](https://radioactivedecay.github.io/) [source](https://github.com/radioactivedecay/radioactivedecay)\n",
    "* serpenttools [docs](https://serpent-tools.readthedocs.io/en/latest/) [source](https://github.com/CORE-GATECH-GROUP/serpent-tools)\n",
    "* shabblona [source](https://github.com/uwescience/shablona)"
   ]
  },
  {
   "cell_type": "markdown",
   "id": "f4ee7c79",
   "metadata": {
    "slideshow": {
     "slide_type": "subslide"
    }
   },
   "source": [
    "### Final Discussion:\n",
    "\n",
    "There are many versions of Python that exist, and many versions of packages that exist. What does that mean for your work? "
   ]
  },
  {
   "cell_type": "markdown",
   "id": "1a5a86f2",
   "metadata": {
    "slideshow": {
     "slide_type": "slide"
    }
   },
   "source": [
    "# Happy Pythoning!!! "
   ]
  },
  {
   "cell_type": "code",
   "execution_count": null,
   "id": "933b9bc1",
   "metadata": {
    "slideshow": {
     "slide_type": "subslide"
    }
   },
   "outputs": [],
   "source": [
    "import antigravity"
   ]
  },
  {
   "cell_type": "code",
   "execution_count": null,
   "id": "3ce20e47",
   "metadata": {},
   "outputs": [],
   "source": []
  }
 ],
 "metadata": {
  "kernelspec": {
   "display_name": "Python 3 (ipykernel)",
   "language": "python",
   "name": "python3"
  },
  "language_info": {
   "codemirror_mode": {
    "name": "ipython",
    "version": 3
   },
   "file_extension": ".py",
   "mimetype": "text/x-python",
   "name": "python",
   "nbconvert_exporter": "python",
   "pygments_lexer": "ipython3",
   "version": "3.11.2"
  }
 },
 "nbformat": 4,
 "nbformat_minor": 5
}
